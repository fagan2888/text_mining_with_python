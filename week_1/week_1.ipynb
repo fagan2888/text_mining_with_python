{
 "cells": [
  {
   "cell_type": "code",
   "execution_count": 76,
   "metadata": {},
   "outputs": [],
   "source": [
    "import pandas as pd\n",
    "from pathlib import Path"
   ]
  },
  {
   "cell_type": "code",
   "execution_count": 77,
   "metadata": {},
   "outputs": [],
   "source": [
    "path = Path('FOMC_minutes.csv')\n",
    "df = pd.read_csv(\"/Users/julio/University/BMGT448V/FOMC_minutes.csv\") "
   ]
  },
  {
   "cell_type": "code",
   "execution_count": 78,
   "metadata": {},
   "outputs": [],
   "source": [
    "df[\"len_statement\"] = df[\"statements\"].apply(len)"
   ]
  },
  {
   "cell_type": "code",
   "execution_count": 79,
   "metadata": {},
   "outputs": [
    {
     "data": {
      "text/html": [
       "<div>\n",
       "<style scoped>\n",
       "    .dataframe tbody tr th:only-of-type {\n",
       "        vertical-align: middle;\n",
       "    }\n",
       "\n",
       "    .dataframe tbody tr th {\n",
       "        vertical-align: top;\n",
       "    }\n",
       "\n",
       "    .dataframe thead th {\n",
       "        text-align: right;\n",
       "    }\n",
       "</style>\n",
       "<table border=\"1\" class=\"dataframe\">\n",
       "  <thead>\n",
       "    <tr style=\"text-align: right;\">\n",
       "      <th></th>\n",
       "      <th>date</th>\n",
       "      <th>statements</th>\n",
       "      <th>len_statement</th>\n",
       "    </tr>\n",
       "  </thead>\n",
       "  <tbody>\n",
       "    <tr>\n",
       "      <th>0</th>\n",
       "      <td>2/4/1994</td>\n",
       "      <td>Chairman Alan Greenspan announced today that t...</td>\n",
       "      <td>636</td>\n",
       "    </tr>\n",
       "    <tr>\n",
       "      <th>1</th>\n",
       "      <td>3/22/1994</td>\n",
       "      <td>Chairman Alan Greenspan announced today that t...</td>\n",
       "      <td>258</td>\n",
       "    </tr>\n",
       "    <tr>\n",
       "      <th>2</th>\n",
       "      <td>4/18/1994</td>\n",
       "      <td>Chairman Alan Greenspan announced today that t...</td>\n",
       "      <td>238</td>\n",
       "    </tr>\n",
       "    <tr>\n",
       "      <th>3</th>\n",
       "      <td>5/17/1994</td>\n",
       "      <td>The Federal Reserve today announced two action...</td>\n",
       "      <td>1118</td>\n",
       "    </tr>\n",
       "    <tr>\n",
       "      <th>4</th>\n",
       "      <td>8/16/1994</td>\n",
       "      <td>The Federal Reserve announced today the follow...</td>\n",
       "      <td>919</td>\n",
       "    </tr>\n",
       "    <tr>\n",
       "      <th>5</th>\n",
       "      <td>11/15/1994</td>\n",
       "      <td>The Federal Reserve Board today approved an in...</td>\n",
       "      <td>914</td>\n",
       "    </tr>\n",
       "    <tr>\n",
       "      <th>6</th>\n",
       "      <td>2/1/1995</td>\n",
       "      <td>The Federal Reserve Board today approved an in...</td>\n",
       "      <td>946</td>\n",
       "    </tr>\n",
       "    <tr>\n",
       "      <th>7</th>\n",
       "      <td>7/6/1995</td>\n",
       "      <td>Chairman Alan Greenspan announced today that t...</td>\n",
       "      <td>455</td>\n",
       "    </tr>\n",
       "    <tr>\n",
       "      <th>8</th>\n",
       "      <td>12/19/1995</td>\n",
       "      <td>Chairman Alan Greenspan announced today that t...</td>\n",
       "      <td>538</td>\n",
       "    </tr>\n",
       "    <tr>\n",
       "      <th>9</th>\n",
       "      <td>1/31/1996</td>\n",
       "      <td>The Federal Reserve today announced the follow...</td>\n",
       "      <td>916</td>\n",
       "    </tr>\n",
       "  </tbody>\n",
       "</table>\n",
       "</div>"
      ],
      "text/plain": [
       "         date                                         statements  \\\n",
       "0    2/4/1994  Chairman Alan Greenspan announced today that t...   \n",
       "1   3/22/1994  Chairman Alan Greenspan announced today that t...   \n",
       "2   4/18/1994  Chairman Alan Greenspan announced today that t...   \n",
       "3   5/17/1994  The Federal Reserve today announced two action...   \n",
       "4   8/16/1994  The Federal Reserve announced today the follow...   \n",
       "5  11/15/1994  The Federal Reserve Board today approved an in...   \n",
       "6    2/1/1995  The Federal Reserve Board today approved an in...   \n",
       "7    7/6/1995  Chairman Alan Greenspan announced today that t...   \n",
       "8  12/19/1995  Chairman Alan Greenspan announced today that t...   \n",
       "9   1/31/1996  The Federal Reserve today announced the follow...   \n",
       "\n",
       "   len_statement  \n",
       "0            636  \n",
       "1            258  \n",
       "2            238  \n",
       "3           1118  \n",
       "4            919  \n",
       "5            914  \n",
       "6            946  \n",
       "7            455  \n",
       "8            538  \n",
       "9            916  "
      ]
     },
     "execution_count": 79,
     "metadata": {},
     "output_type": "execute_result"
    }
   ],
   "source": [
    "df.head(10)"
   ]
  },
  {
   "cell_type": "code",
   "execution_count": 80,
   "metadata": {},
   "outputs": [],
   "source": [
    "ex_date = \"2/9/1996\""
   ]
  },
  {
   "cell_type": "code",
   "execution_count": 91,
   "metadata": {},
   "outputs": [],
   "source": [
    "def get_year(date):\n",
    "    string_pd = pd.to_datetime(date)\n",
    "    return string_pd.year"
   ]
  },
  {
   "cell_type": "code",
   "execution_count": 92,
   "metadata": {},
   "outputs": [
    {
     "data": {
      "text/plain": [
       "1996"
      ]
     },
     "execution_count": 92,
     "metadata": {},
     "output_type": "execute_result"
    }
   ],
   "source": [
    "get_year(ex_date)"
   ]
  },
  {
   "cell_type": "code",
   "execution_count": 93,
   "metadata": {},
   "outputs": [],
   "source": [
    "df[\"year\"] = df[\"date\"].apply(get_year)"
   ]
  },
  {
   "cell_type": "code",
   "execution_count": 95,
   "metadata": {},
   "outputs": [
    {
     "data": {
      "text/html": [
       "<div>\n",
       "<style scoped>\n",
       "    .dataframe tbody tr th:only-of-type {\n",
       "        vertical-align: middle;\n",
       "    }\n",
       "\n",
       "    .dataframe tbody tr th {\n",
       "        vertical-align: top;\n",
       "    }\n",
       "\n",
       "    .dataframe thead th {\n",
       "        text-align: right;\n",
       "    }\n",
       "</style>\n",
       "<table border=\"1\" class=\"dataframe\">\n",
       "  <thead>\n",
       "    <tr style=\"text-align: right;\">\n",
       "      <th></th>\n",
       "      <th>date</th>\n",
       "      <th>statements</th>\n",
       "      <th>len_statement</th>\n",
       "      <th>year</th>\n",
       "    </tr>\n",
       "  </thead>\n",
       "  <tbody>\n",
       "    <tr>\n",
       "      <th>0</th>\n",
       "      <td>2/4/1994</td>\n",
       "      <td>Chairman Alan Greenspan announced today that t...</td>\n",
       "      <td>636</td>\n",
       "      <td>1994</td>\n",
       "    </tr>\n",
       "    <tr>\n",
       "      <th>1</th>\n",
       "      <td>3/22/1994</td>\n",
       "      <td>Chairman Alan Greenspan announced today that t...</td>\n",
       "      <td>258</td>\n",
       "      <td>1994</td>\n",
       "    </tr>\n",
       "    <tr>\n",
       "      <th>2</th>\n",
       "      <td>4/18/1994</td>\n",
       "      <td>Chairman Alan Greenspan announced today that t...</td>\n",
       "      <td>238</td>\n",
       "      <td>1994</td>\n",
       "    </tr>\n",
       "    <tr>\n",
       "      <th>3</th>\n",
       "      <td>5/17/1994</td>\n",
       "      <td>The Federal Reserve today announced two action...</td>\n",
       "      <td>1118</td>\n",
       "      <td>1994</td>\n",
       "    </tr>\n",
       "    <tr>\n",
       "      <th>4</th>\n",
       "      <td>8/16/1994</td>\n",
       "      <td>The Federal Reserve announced today the follow...</td>\n",
       "      <td>919</td>\n",
       "      <td>1994</td>\n",
       "    </tr>\n",
       "  </tbody>\n",
       "</table>\n",
       "</div>"
      ],
      "text/plain": [
       "        date                                         statements  \\\n",
       "0   2/4/1994  Chairman Alan Greenspan announced today that t...   \n",
       "1  3/22/1994  Chairman Alan Greenspan announced today that t...   \n",
       "2  4/18/1994  Chairman Alan Greenspan announced today that t...   \n",
       "3  5/17/1994  The Federal Reserve today announced two action...   \n",
       "4  8/16/1994  The Federal Reserve announced today the follow...   \n",
       "\n",
       "   len_statement  year  \n",
       "0            636  1994  \n",
       "1            258  1994  \n",
       "2            238  1994  \n",
       "3           1118  1994  \n",
       "4            919  1994  "
      ]
     },
     "execution_count": 95,
     "metadata": {},
     "output_type": "execute_result"
    }
   ],
   "source": [
    "df.head()"
   ]
  },
  {
   "cell_type": "code",
   "execution_count": null,
   "metadata": {},
   "outputs": [],
   "source": []
  }
 ],
 "metadata": {
  "kernelspec": {
   "display_name": "Python 3",
   "language": "python",
   "name": "python3"
  },
  "language_info": {
   "codemirror_mode": {
    "name": "ipython",
    "version": 3
   },
   "file_extension": ".py",
   "mimetype": "text/x-python",
   "name": "python",
   "nbconvert_exporter": "python",
   "pygments_lexer": "ipython3",
   "version": "3.7.2"
  }
 },
 "nbformat": 4,
 "nbformat_minor": 2
}
