{
 "cells": [
  {
   "cell_type": "code",
   "execution_count": 1,
   "metadata": {},
   "outputs": [],
   "source": [
    "from collections import Counter"
   ]
  },
  {
   "cell_type": "code",
   "execution_count": 2,
   "metadata": {},
   "outputs": [],
   "source": [
    "text = \"Information received since the Federal Open Market Committee met in November indicatesthat the labor market has continued to strengthen and that economic activity has been rising ata strong rate. Job gains have been strong, on average, in recent months, and the unemploymentrate has remained low. Household spending has continued to grow strongly, while growth ofbusiness fixed investment has moderated from its rapid pace earlier in the year. On a 12-monthbasis, both overall inflation and inflation for items other than food and energy remain near 2 per-cent. Indicators of longer-term inflation expectations are little changed, on balance. Consistentwith its statutory mandate, the Committee seeks to foster maximum employment and price sta-bility. The Committee judges that some further gradual increases in the target range for the federalfunds rate will be consistent with sustained expansion of economic activity, strong labor marketconditions, and inflation near the Committee’s symmetric 2 percent objective over the mediumterm. The Committee judges that risks to the economic outlook are roughly balanced, but willcontinue to monitor global economic and financial developments and assess their implications forthe economic outlook. In view of realized and expected labor market conditions and inflation,the Committee decided to raise the target range for the federal funds rate to 2-1/4 to 2-1/2 per-cent. In determining the timing and size of future adjustments to the target range for the federalfunds rate, the Committee will assess realized and expected economic conditions relative to itsmaximum employment objective and its symmetric 2 percent inflation objective. This assessmentwill take into account a wide range of information, including measures of labor market condi-tions, indicators of inflation pressures and inflation expectations, and readings on financial andinternational developments.\""
   ]
  },
  {
   "cell_type": "code",
   "execution_count": 5,
   "metadata": {},
   "outputs": [],
   "source": [
    "text_list = text.split()\n",
    "text_counter = Counter(text_list)"
   ]
  },
  {
   "cell_type": "code",
   "execution_count": 7,
   "metadata": {},
   "outputs": [],
   "source": [
    "text_counter_dict = {}\n",
    "for word in text_list:\n",
    "    if word not in text_counter_dict.keys():\n",
    "        text_counter_dict[word] = 0\n",
    "    text_counter_dict[word] += 1"
   ]
  },
  {
   "cell_type": "code",
   "execution_count": 8,
   "metadata": {},
   "outputs": [
    {
     "name": "stdout",
     "output_type": "stream",
     "text": [
      "Counter({'the': 16, 'and': 15, 'to': 10, 'inflation': 7, 'of': 7, 'Committee': 6, 'economic': 6, 'has': 5, 'in': 4, 'labor': 4, 'for': 4, 'range': 4, 'market': 3, 'that': 3, 'on': 3, 'its': 3, '2': 3, 'target': 3, 'continued': 2, 'been': 2, 'strong': 2, 'a': 2, 'near': 2, 'per-cent.': 2, 'are': 2, 'employment': 2, 'The': 2, 'judges': 2, 'federalfunds': 2, 'rate': 2, 'will': 2, 'symmetric': 2, 'percent': 2, 'objective': 2, 'financial': 2, 'assess': 2, 'In': 2, 'realized': 2, 'expected': 2, 'conditions': 2, 'Information': 1, 'received': 1, 'since': 1, 'Federal': 1, 'Open': 1, 'Market': 1, 'met': 1, 'November': 1, 'indicatesthat': 1, 'strengthen': 1, 'activity': 1, 'rising': 1, 'ata': 1, 'rate.': 1, 'Job': 1, 'gains': 1, 'have': 1, 'strong,': 1, 'average,': 1, 'recent': 1, 'months,': 1, 'unemploymentrate': 1, 'remained': 1, 'low.': 1, 'Household': 1, 'spending': 1, 'grow': 1, 'strongly,': 1, 'while': 1, 'growth': 1, 'ofbusiness': 1, 'fixed': 1, 'investment': 1, 'moderated': 1, 'from': 1, 'rapid': 1, 'pace': 1, 'earlier': 1, 'year.': 1, 'On': 1, '12-monthbasis,': 1, 'both': 1, 'overall': 1, 'items': 1, 'other': 1, 'than': 1, 'food': 1, 'energy': 1, 'remain': 1, 'Indicators': 1, 'longer-term': 1, 'expectations': 1, 'little': 1, 'changed,': 1, 'balance.': 1, 'Consistentwith': 1, 'statutory': 1, 'mandate,': 1, 'seeks': 1, 'foster': 1, 'maximum': 1, 'price': 1, 'sta-bility.': 1, 'some': 1, 'further': 1, 'gradual': 1, 'increases': 1, 'be': 1, 'consistent': 1, 'with': 1, 'sustained': 1, 'expansion': 1, 'activity,': 1, 'marketconditions,': 1, 'Committee’s': 1, 'over': 1, 'mediumterm.': 1, 'risks': 1, 'outlook': 1, 'roughly': 1, 'balanced,': 1, 'but': 1, 'willcontinue': 1, 'monitor': 1, 'global': 1, 'developments': 1, 'their': 1, 'implications': 1, 'forthe': 1, 'outlook.': 1, 'view': 1, 'inflation,the': 1, 'decided': 1, 'raise': 1, 'federal': 1, 'funds': 1, '2-1/4': 1, '2-1/2': 1, 'determining': 1, 'timing': 1, 'size': 1, 'future': 1, 'adjustments': 1, 'rate,': 1, 'relative': 1, 'itsmaximum': 1, 'objective.': 1, 'This': 1, 'assessmentwill': 1, 'take': 1, 'into': 1, 'account': 1, 'wide': 1, 'information,': 1, 'including': 1, 'measures': 1, 'condi-tions,': 1, 'indicators': 1, 'pressures': 1, 'expectations,': 1, 'readings': 1, 'andinternational': 1, 'developments.': 1})\n"
     ]
    }
   ],
   "source": [
    "print(text_counter)"
   ]
  },
  {
   "cell_type": "code",
   "execution_count": 9,
   "metadata": {},
   "outputs": [
    {
     "name": "stdout",
     "output_type": "stream",
     "text": [
      "{'Information': 1, 'received': 1, 'since': 1, 'the': 16, 'Federal': 1, 'Open': 1, 'Market': 1, 'Committee': 6, 'met': 1, 'in': 4, 'November': 1, 'indicatesthat': 1, 'labor': 4, 'market': 3, 'has': 5, 'continued': 2, 'to': 10, 'strengthen': 1, 'and': 15, 'that': 3, 'economic': 6, 'activity': 1, 'been': 2, 'rising': 1, 'ata': 1, 'strong': 2, 'rate.': 1, 'Job': 1, 'gains': 1, 'have': 1, 'strong,': 1, 'on': 3, 'average,': 1, 'recent': 1, 'months,': 1, 'unemploymentrate': 1, 'remained': 1, 'low.': 1, 'Household': 1, 'spending': 1, 'grow': 1, 'strongly,': 1, 'while': 1, 'growth': 1, 'ofbusiness': 1, 'fixed': 1, 'investment': 1, 'moderated': 1, 'from': 1, 'its': 3, 'rapid': 1, 'pace': 1, 'earlier': 1, 'year.': 1, 'On': 1, 'a': 2, '12-monthbasis,': 1, 'both': 1, 'overall': 1, 'inflation': 7, 'for': 4, 'items': 1, 'other': 1, 'than': 1, 'food': 1, 'energy': 1, 'remain': 1, 'near': 2, '2': 3, 'per-cent.': 2, 'Indicators': 1, 'of': 7, 'longer-term': 1, 'expectations': 1, 'are': 2, 'little': 1, 'changed,': 1, 'balance.': 1, 'Consistentwith': 1, 'statutory': 1, 'mandate,': 1, 'seeks': 1, 'foster': 1, 'maximum': 1, 'employment': 2, 'price': 1, 'sta-bility.': 1, 'The': 2, 'judges': 2, 'some': 1, 'further': 1, 'gradual': 1, 'increases': 1, 'target': 3, 'range': 4, 'federalfunds': 2, 'rate': 2, 'will': 2, 'be': 1, 'consistent': 1, 'with': 1, 'sustained': 1, 'expansion': 1, 'activity,': 1, 'marketconditions,': 1, 'Committee’s': 1, 'symmetric': 2, 'percent': 2, 'objective': 2, 'over': 1, 'mediumterm.': 1, 'risks': 1, 'outlook': 1, 'roughly': 1, 'balanced,': 1, 'but': 1, 'willcontinue': 1, 'monitor': 1, 'global': 1, 'financial': 2, 'developments': 1, 'assess': 2, 'their': 1, 'implications': 1, 'forthe': 1, 'outlook.': 1, 'In': 2, 'view': 1, 'realized': 2, 'expected': 2, 'conditions': 2, 'inflation,the': 1, 'decided': 1, 'raise': 1, 'federal': 1, 'funds': 1, '2-1/4': 1, '2-1/2': 1, 'determining': 1, 'timing': 1, 'size': 1, 'future': 1, 'adjustments': 1, 'rate,': 1, 'relative': 1, 'itsmaximum': 1, 'objective.': 1, 'This': 1, 'assessmentwill': 1, 'take': 1, 'into': 1, 'account': 1, 'wide': 1, 'information,': 1, 'including': 1, 'measures': 1, 'condi-tions,': 1, 'indicators': 1, 'pressures': 1, 'expectations,': 1, 'readings': 1, 'andinternational': 1, 'developments.': 1}\n"
     ]
    }
   ],
   "source": [
    "print(text_counter_dict)"
   ]
  },
  {
   "cell_type": "code",
   "execution_count": 32,
   "metadata": {},
   "outputs": [],
   "source": [
    "import re"
   ]
  },
  {
   "cell_type": "code",
   "execution_count": 33,
   "metadata": {},
   "outputs": [],
   "source": [
    "sent = \"there were inflationnnary pressures\""
   ]
  },
  {
   "cell_type": "code",
   "execution_count": 34,
   "metadata": {},
   "outputs": [
    {
     "name": "stdout",
     "output_type": "stream",
     "text": [
      "<re.Match object; span=(11, 20), match='inflation'>\n",
      "\n",
      " None\n"
     ]
    },
    {
     "data": {
      "text/plain": [
       "'\\n*  -  Match 0 or more times\\n+  -  Match 1 or more times\\n?  -  Match 0 or 1 time\\n\\nr  -  used for reading a string\\n'"
      ]
     },
     "execution_count": 34,
     "metadata": {},
     "output_type": "execute_result"
    }
   ],
   "source": [
    "match = re.search(\"inflation\",sent)\n",
    "no_match = re.search(\"blaah\",sent)\n",
    "print(match)\n",
    "print(\"\\n\",no_match)\n",
    "\n",
    "# \"\"\"\n",
    "# *  -  Match 0 or more times\n",
    "# +  -  Match 1 or more times\n",
    "# ?  -  Match 0 or 1 time\n",
    "\n",
    "# r  -  used for reading a string\n",
    "# \"\"\""
   ]
  },
  {
   "cell_type": "code",
   "execution_count": 31,
   "metadata": {},
   "outputs": [
    {
     "name": "stdout",
     "output_type": "stream",
     "text": [
      "<re.Match object; span=(11, 22), match='inflationnn'>\n",
      "<re.Match object; span=(11, 22), match='inflationnn'>\n",
      "<re.Match object; span=(11, 20), match='inflation'>\n"
     ]
    }
   ],
   "source": [
    "sent = \"there were inflationnnary pressures\"\n",
    "match1 = re.search(r\"inflation*\",sent)\n",
    "match2 = re.search(r\"inflation+\",sent)\n",
    "match3 = re.search(r\"inflation?\",sent)\n",
    "print(match1)\n",
    "print(match2)\n",
    "print(match3)"
   ]
  },
  {
   "cell_type": "code",
   "execution_count": null,
   "metadata": {},
   "outputs": [],
   "source": []
  }
 ],
 "metadata": {
  "kernelspec": {
   "display_name": "Python 3",
   "language": "python",
   "name": "python3"
  },
  "language_info": {
   "codemirror_mode": {
    "name": "ipython",
    "version": 3
   },
   "file_extension": ".py",
   "mimetype": "text/x-python",
   "name": "python",
   "nbconvert_exporter": "python",
   "pygments_lexer": "ipython3",
   "version": "3.7.2"
  }
 },
 "nbformat": 4,
 "nbformat_minor": 2
}
