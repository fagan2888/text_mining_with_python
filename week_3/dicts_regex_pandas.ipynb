{
 "cells": [
  {
   "cell_type": "code",
   "execution_count": 1,
   "metadata": {},
   "outputs": [],
   "source": [
    "from collections import Counter"
   ]
  },
  {
   "cell_type": "code",
   "execution_count": 2,
   "metadata": {},
   "outputs": [],
   "source": [
    "text = \"Information received since the Federal Open Market Committee met in November indicatesthat the labor market has continued to strengthen and that economic activity has been rising ata strong rate. Job gains have been strong, on average, in recent months, and the unemploymentrate has remained low. Household spending has continued to grow strongly, while growth ofbusiness fixed investment has moderated from its rapid pace earlier in the year. On a 12-monthbasis, both overall inflation and inflation for items other than food and energy remain near 2 per-cent. Indicators of longer-term inflation expectations are little changed, on balance. Consistentwith its statutory mandate, the Committee seeks to foster maximum employment and price sta-bility. The Committee judges that some further gradual increases in the target range for the federalfunds rate will be consistent with sustained expansion of economic activity, strong labor marketconditions, and inflation near the Committee’s symmetric 2 percent objective over the mediumterm. The Committee judges that risks to the economic outlook are roughly balanced, but willcontinue to monitor global economic and financial developments and assess their implications forthe economic outlook. In view of realized and expected labor market conditions and inflation,the Committee decided to raise the target range for the federal funds rate to 2-1/4 to 2-1/2 per-cent. In determining the timing and size of future adjustments to the target range for the federalfunds rate, the Committee will assess realized and expected economic conditions relative to itsmaximum employment objective and its symmetric 2 percent inflation objective. This assessmentwill take into account a wide range of information, including measures of labor market condi-tions, indicators of inflation pressures and inflation expectations, and readings on financial andinternational developments.\""
   ]
  },
  {
   "cell_type": "code",
   "execution_count": 5,
   "metadata": {},
   "outputs": [],
   "source": [
    "text_list = text.split()\n",
    "text_counter = Counter(text_list)"
   ]
  },
  {
   "cell_type": "code",
   "execution_count": 7,
   "metadata": {},
   "outputs": [],
   "source": [
    "text_counter_dict = {}\n",
    "for word in text_list:\n",
    "    if word not in text_counter_dict.keys():\n",
    "        text_counter_dict[word] = 0\n",
    "    text_counter_dict[word] += 1"
   ]
  },
  {
   "cell_type": "code",
   "execution_count": 8,
   "metadata": {},
   "outputs": [
    {
     "name": "stdout",
     "output_type": "stream",
     "text": [
      "Counter({'the': 16, 'and': 15, 'to': 10, 'inflation': 7, 'of': 7, 'Committee': 6, 'economic': 6, 'has': 5, 'in': 4, 'labor': 4, 'for': 4, 'range': 4, 'market': 3, 'that': 3, 'on': 3, 'its': 3, '2': 3, 'target': 3, 'continued': 2, 'been': 2, 'strong': 2, 'a': 2, 'near': 2, 'per-cent.': 2, 'are': 2, 'employment': 2, 'The': 2, 'judges': 2, 'federalfunds': 2, 'rate': 2, 'will': 2, 'symmetric': 2, 'percent': 2, 'objective': 2, 'financial': 2, 'assess': 2, 'In': 2, 'realized': 2, 'expected': 2, 'conditions': 2, 'Information': 1, 'received': 1, 'since': 1, 'Federal': 1, 'Open': 1, 'Market': 1, 'met': 1, 'November': 1, 'indicatesthat': 1, 'strengthen': 1, 'activity': 1, 'rising': 1, 'ata': 1, 'rate.': 1, 'Job': 1, 'gains': 1, 'have': 1, 'strong,': 1, 'average,': 1, 'recent': 1, 'months,': 1, 'unemploymentrate': 1, 'remained': 1, 'low.': 1, 'Household': 1, 'spending': 1, 'grow': 1, 'strongly,': 1, 'while': 1, 'growth': 1, 'ofbusiness': 1, 'fixed': 1, 'investment': 1, 'moderated': 1, 'from': 1, 'rapid': 1, 'pace': 1, 'earlier': 1, 'year.': 1, 'On': 1, '12-monthbasis,': 1, 'both': 1, 'overall': 1, 'items': 1, 'other': 1, 'than': 1, 'food': 1, 'energy': 1, 'remain': 1, 'Indicators': 1, 'longer-term': 1, 'expectations': 1, 'little': 1, 'changed,': 1, 'balance.': 1, 'Consistentwith': 1, 'statutory': 1, 'mandate,': 1, 'seeks': 1, 'foster': 1, 'maximum': 1, 'price': 1, 'sta-bility.': 1, 'some': 1, 'further': 1, 'gradual': 1, 'increases': 1, 'be': 1, 'consistent': 1, 'with': 1, 'sustained': 1, 'expansion': 1, 'activity,': 1, 'marketconditions,': 1, 'Committee’s': 1, 'over': 1, 'mediumterm.': 1, 'risks': 1, 'outlook': 1, 'roughly': 1, 'balanced,': 1, 'but': 1, 'willcontinue': 1, 'monitor': 1, 'global': 1, 'developments': 1, 'their': 1, 'implications': 1, 'forthe': 1, 'outlook.': 1, 'view': 1, 'inflation,the': 1, 'decided': 1, 'raise': 1, 'federal': 1, 'funds': 1, '2-1/4': 1, '2-1/2': 1, 'determining': 1, 'timing': 1, 'size': 1, 'future': 1, 'adjustments': 1, 'rate,': 1, 'relative': 1, 'itsmaximum': 1, 'objective.': 1, 'This': 1, 'assessmentwill': 1, 'take': 1, 'into': 1, 'account': 1, 'wide': 1, 'information,': 1, 'including': 1, 'measures': 1, 'condi-tions,': 1, 'indicators': 1, 'pressures': 1, 'expectations,': 1, 'readings': 1, 'andinternational': 1, 'developments.': 1})\n"
     ]
    }
   ],
   "source": [
    "print(text_counter)"
   ]
  },
  {
   "cell_type": "code",
   "execution_count": 9,
   "metadata": {},
   "outputs": [
    {
     "name": "stdout",
     "output_type": "stream",
     "text": [
      "{'Information': 1, 'received': 1, 'since': 1, 'the': 16, 'Federal': 1, 'Open': 1, 'Market': 1, 'Committee': 6, 'met': 1, 'in': 4, 'November': 1, 'indicatesthat': 1, 'labor': 4, 'market': 3, 'has': 5, 'continued': 2, 'to': 10, 'strengthen': 1, 'and': 15, 'that': 3, 'economic': 6, 'activity': 1, 'been': 2, 'rising': 1, 'ata': 1, 'strong': 2, 'rate.': 1, 'Job': 1, 'gains': 1, 'have': 1, 'strong,': 1, 'on': 3, 'average,': 1, 'recent': 1, 'months,': 1, 'unemploymentrate': 1, 'remained': 1, 'low.': 1, 'Household': 1, 'spending': 1, 'grow': 1, 'strongly,': 1, 'while': 1, 'growth': 1, 'ofbusiness': 1, 'fixed': 1, 'investment': 1, 'moderated': 1, 'from': 1, 'its': 3, 'rapid': 1, 'pace': 1, 'earlier': 1, 'year.': 1, 'On': 1, 'a': 2, '12-monthbasis,': 1, 'both': 1, 'overall': 1, 'inflation': 7, 'for': 4, 'items': 1, 'other': 1, 'than': 1, 'food': 1, 'energy': 1, 'remain': 1, 'near': 2, '2': 3, 'per-cent.': 2, 'Indicators': 1, 'of': 7, 'longer-term': 1, 'expectations': 1, 'are': 2, 'little': 1, 'changed,': 1, 'balance.': 1, 'Consistentwith': 1, 'statutory': 1, 'mandate,': 1, 'seeks': 1, 'foster': 1, 'maximum': 1, 'employment': 2, 'price': 1, 'sta-bility.': 1, 'The': 2, 'judges': 2, 'some': 1, 'further': 1, 'gradual': 1, 'increases': 1, 'target': 3, 'range': 4, 'federalfunds': 2, 'rate': 2, 'will': 2, 'be': 1, 'consistent': 1, 'with': 1, 'sustained': 1, 'expansion': 1, 'activity,': 1, 'marketconditions,': 1, 'Committee’s': 1, 'symmetric': 2, 'percent': 2, 'objective': 2, 'over': 1, 'mediumterm.': 1, 'risks': 1, 'outlook': 1, 'roughly': 1, 'balanced,': 1, 'but': 1, 'willcontinue': 1, 'monitor': 1, 'global': 1, 'financial': 2, 'developments': 1, 'assess': 2, 'their': 1, 'implications': 1, 'forthe': 1, 'outlook.': 1, 'In': 2, 'view': 1, 'realized': 2, 'expected': 2, 'conditions': 2, 'inflation,the': 1, 'decided': 1, 'raise': 1, 'federal': 1, 'funds': 1, '2-1/4': 1, '2-1/2': 1, 'determining': 1, 'timing': 1, 'size': 1, 'future': 1, 'adjustments': 1, 'rate,': 1, 'relative': 1, 'itsmaximum': 1, 'objective.': 1, 'This': 1, 'assessmentwill': 1, 'take': 1, 'into': 1, 'account': 1, 'wide': 1, 'information,': 1, 'including': 1, 'measures': 1, 'condi-tions,': 1, 'indicators': 1, 'pressures': 1, 'expectations,': 1, 'readings': 1, 'andinternational': 1, 'developments.': 1}\n"
     ]
    }
   ],
   "source": [
    "print(text_counter_dict)"
   ]
  },
  {
   "cell_type": "code",
   "execution_count": 32,
   "metadata": {},
   "outputs": [],
   "source": [
    "import re"
   ]
  },
  {
   "cell_type": "code",
   "execution_count": 33,
   "metadata": {},
   "outputs": [],
   "source": [
    "sent = \"there were inflationnnary pressures\""
   ]
  },
  {
   "cell_type": "code",
   "execution_count": 35,
   "metadata": {},
   "outputs": [
    {
     "name": "stdout",
     "output_type": "stream",
     "text": [
      "<re.Match object; span=(11, 20), match='inflation'>\n",
      "\n",
      " None\n"
     ]
    }
   ],
   "source": [
    "match = re.search(\"inflation\",sent)\n",
    "no_match = re.search(\"blaah\",sent)\n",
    "print(match)\n",
    "print(\"\\n\",no_match)\n",
    "\n",
    "# \"\"\"\n",
    "# *  -  Match 0 or more times\n",
    "# +  -  Match 1 or more times\n",
    "# ?  -  Match 0 or 1 time\n",
    "\n",
    "# r  -  used for reading a string\n",
    "# \"\"\""
   ]
  },
  {
   "cell_type": "code",
   "execution_count": 37,
   "metadata": {},
   "outputs": [
    {
     "name": "stdout",
     "output_type": "stream",
     "text": [
      "<re.Match object; span=(11, 19), match='inflatio'>\n",
      "None\n",
      "<re.Match object; span=(11, 19), match='inflatio'>\n"
     ]
    }
   ],
   "source": [
    "sent = \"there were inflatioary pressures\"\n",
    "match1 = re.search(r\"inflation*\",sent)\n",
    "match2 = re.search(r\"inflation+\",sent)\n",
    "match3 = re.search(r\"inflation?\",sent)\n",
    "print(match1)\n",
    "print(match2)\n",
    "print(match3)"
   ]
  },
  {
   "cell_type": "code",
   "execution_count": 39,
   "metadata": {},
   "outputs": [
    {
     "name": "stdout",
     "output_type": "stream",
     "text": [
      "<re.Match object; span=(23, 32), match='pressures'>\n",
      "None\n"
     ]
    }
   ],
   "source": [
    "print(re.search(r\"pres{2}ures\",sent))\n",
    "print(re.search(r\"pres{3}ures\",sent))"
   ]
  },
  {
   "cell_type": "code",
   "execution_count": 59,
   "metadata": {},
   "outputs": [
    {
     "name": "stdout",
     "output_type": "stream",
     "text": [
      "<re.Match object; span=(26, 35), match='pressures'>\n",
      "None\n"
     ]
    }
   ],
   "source": [
    "print(re.search(r\"pres*ures\",sent))\n",
    "print(re.search(r\"pres?ures\",sent))"
   ]
  },
  {
   "cell_type": "code",
   "execution_count": 60,
   "metadata": {},
   "outputs": [
    {
     "name": "stdout",
     "output_type": "stream",
     "text": [
      "<re.Match object; span=(11, 35), match='inflationnnary pressures'>\n"
     ]
    }
   ],
   "source": [
    "sent = \"there were inflationnnary pressures\"\n",
    "pattern = re.compile(r\"inflation\\w*\\s\\w+\")\n",
    "print(re.search(pattern,sent))"
   ]
  },
  {
   "cell_type": "code",
   "execution_count": 79,
   "metadata": {},
   "outputs": [
    {
     "name": "stdout",
     "output_type": "stream",
     "text": [
      "<re.Match object; span=(0, 8), match='deadmau5'>\n",
      "<re.Match object; span=(0, 16), match='deadmau5 maroon5'>\n",
      "<re.Match object; span=(24, 29), match='scott'>\n",
      "<re.Match object; span=(24, 29), match='scott'>\n"
     ]
    }
   ],
   "source": [
    "test_text = \"deadmau5 maroon5 travis scott\"\n",
    "pattern1 = re.compile(r\"\\w+\\d+\")\n",
    "print(re.search(pattern1,test_text))\n",
    "pattern2 = re.compile(r\"\\w*\\w\\s\\w*\")\n",
    "print(re.search(pattern2,test_text))\n",
    "print(re.search(r\"scott+\",test_text))\n",
    "print(re.search(r\"scot{2}\",test_text))"
   ]
  },
  {
   "cell_type": "code",
   "execution_count": 83,
   "metadata": {},
   "outputs": [
    {
     "name": "stdout",
     "output_type": "stream",
     "text": [
      "['deadmau5', 'maroon5']\n"
     ]
    }
   ],
   "source": [
    "pattern = re.compile(r\"\\w+\\d\")\n",
    "print(re.findall(pattern,test_text))"
   ]
  },
  {
   "cell_type": "code",
   "execution_count": 108,
   "metadata": {},
   "outputs": [
    {
     "data": {
      "text/html": [
       "<div>\n",
       "<style scoped>\n",
       "    .dataframe tbody tr th:only-of-type {\n",
       "        vertical-align: middle;\n",
       "    }\n",
       "\n",
       "    .dataframe tbody tr th {\n",
       "        vertical-align: top;\n",
       "    }\n",
       "\n",
       "    .dataframe thead th {\n",
       "        text-align: right;\n",
       "    }\n",
       "</style>\n",
       "<table border=\"1\" class=\"dataframe\">\n",
       "  <thead>\n",
       "    <tr style=\"text-align: right;\">\n",
       "      <th></th>\n",
       "      <th>date</th>\n",
       "      <th>statements</th>\n",
       "      <th>new_date</th>\n",
       "      <th>inflation_occur</th>\n",
       "      <th>inflation_count</th>\n",
       "      <th>financial_occur</th>\n",
       "      <th>financial_count</th>\n",
       "    </tr>\n",
       "  </thead>\n",
       "  <tbody>\n",
       "    <tr>\n",
       "      <th>0</th>\n",
       "      <td>2/4/1994</td>\n",
       "      <td>Chairman Alan Greenspan announced today that t...</td>\n",
       "      <td>1994-02-04</td>\n",
       "      <td>[]</td>\n",
       "      <td>0</td>\n",
       "      <td>[]</td>\n",
       "      <td>0</td>\n",
       "    </tr>\n",
       "    <tr>\n",
       "      <th>1</th>\n",
       "      <td>3/22/1994</td>\n",
       "      <td>Chairman Alan Greenspan announced today that t...</td>\n",
       "      <td>1994-03-22</td>\n",
       "      <td>[]</td>\n",
       "      <td>0</td>\n",
       "      <td>[]</td>\n",
       "      <td>0</td>\n",
       "    </tr>\n",
       "    <tr>\n",
       "      <th>2</th>\n",
       "      <td>4/18/1994</td>\n",
       "      <td>Chairman Alan Greenspan announced today that t...</td>\n",
       "      <td>1994-04-18</td>\n",
       "      <td>[]</td>\n",
       "      <td>0</td>\n",
       "      <td>[]</td>\n",
       "      <td>0</td>\n",
       "    </tr>\n",
       "    <tr>\n",
       "      <th>3</th>\n",
       "      <td>5/17/1994</td>\n",
       "      <td>The Federal Reserve today announced two action...</td>\n",
       "      <td>1994-05-17</td>\n",
       "      <td>[inflation]</td>\n",
       "      <td>1</td>\n",
       "      <td>[financial]</td>\n",
       "      <td>1</td>\n",
       "    </tr>\n",
       "    <tr>\n",
       "      <th>4</th>\n",
       "      <td>8/16/1994</td>\n",
       "      <td>The Federal Reserve announced today the follow...</td>\n",
       "      <td>1994-08-16</td>\n",
       "      <td>[inflationary, inflationary]</td>\n",
       "      <td>2</td>\n",
       "      <td>[financial]</td>\n",
       "      <td>1</td>\n",
       "    </tr>\n",
       "    <tr>\n",
       "      <th>5</th>\n",
       "      <td>11/15/1994</td>\n",
       "      <td>The Federal Reserve Board today approved an in...</td>\n",
       "      <td>1994-11-15</td>\n",
       "      <td>[inflation]</td>\n",
       "      <td>1</td>\n",
       "      <td>[]</td>\n",
       "      <td>0</td>\n",
       "    </tr>\n",
       "    <tr>\n",
       "      <th>6</th>\n",
       "      <td>2/1/1995</td>\n",
       "      <td>The Federal Reserve Board today approved an in...</td>\n",
       "      <td>1995-02-01</td>\n",
       "      <td>[inflation]</td>\n",
       "      <td>1</td>\n",
       "      <td>[]</td>\n",
       "      <td>0</td>\n",
       "    </tr>\n",
       "    <tr>\n",
       "      <th>7</th>\n",
       "      <td>7/6/1995</td>\n",
       "      <td>Chairman Alan Greenspan announced today that t...</td>\n",
       "      <td>1995-07-06</td>\n",
       "      <td>[inflationary]</td>\n",
       "      <td>1</td>\n",
       "      <td>[]</td>\n",
       "      <td>0</td>\n",
       "    </tr>\n",
       "    <tr>\n",
       "      <th>8</th>\n",
       "      <td>12/19/1995</td>\n",
       "      <td>Chairman Alan Greenspan announced today that t...</td>\n",
       "      <td>1995-12-19</td>\n",
       "      <td>[inflation, inflation]</td>\n",
       "      <td>2</td>\n",
       "      <td>[]</td>\n",
       "      <td>0</td>\n",
       "    </tr>\n",
       "    <tr>\n",
       "      <th>9</th>\n",
       "      <td>1/31/1996</td>\n",
       "      <td>The Federal Reserve today announced the follow...</td>\n",
       "      <td>1996-01-31</td>\n",
       "      <td>[inflationary, inflation]</td>\n",
       "      <td>2</td>\n",
       "      <td>[]</td>\n",
       "      <td>0</td>\n",
       "    </tr>\n",
       "  </tbody>\n",
       "</table>\n",
       "</div>"
      ],
      "text/plain": [
       "         date                                         statements   new_date  \\\n",
       "0    2/4/1994  Chairman Alan Greenspan announced today that t... 1994-02-04   \n",
       "1   3/22/1994  Chairman Alan Greenspan announced today that t... 1994-03-22   \n",
       "2   4/18/1994  Chairman Alan Greenspan announced today that t... 1994-04-18   \n",
       "3   5/17/1994  The Federal Reserve today announced two action... 1994-05-17   \n",
       "4   8/16/1994  The Federal Reserve announced today the follow... 1994-08-16   \n",
       "5  11/15/1994  The Federal Reserve Board today approved an in... 1994-11-15   \n",
       "6    2/1/1995  The Federal Reserve Board today approved an in... 1995-02-01   \n",
       "7    7/6/1995  Chairman Alan Greenspan announced today that t... 1995-07-06   \n",
       "8  12/19/1995  Chairman Alan Greenspan announced today that t... 1995-12-19   \n",
       "9   1/31/1996  The Federal Reserve today announced the follow... 1996-01-31   \n",
       "\n",
       "                inflation_occur  inflation_count financial_occur  \\\n",
       "0                            []                0              []   \n",
       "1                            []                0              []   \n",
       "2                            []                0              []   \n",
       "3                   [inflation]                1     [financial]   \n",
       "4  [inflationary, inflationary]                2     [financial]   \n",
       "5                   [inflation]                1              []   \n",
       "6                   [inflation]                1              []   \n",
       "7                [inflationary]                1              []   \n",
       "8        [inflation, inflation]                2              []   \n",
       "9     [inflationary, inflation]                2              []   \n",
       "\n",
       "   financial_count  \n",
       "0                0  \n",
       "1                0  \n",
       "2                0  \n",
       "3                1  \n",
       "4                1  \n",
       "5                0  \n",
       "6                0  \n",
       "7                0  \n",
       "8                0  \n",
       "9                0  "
      ]
     },
     "execution_count": 108,
     "metadata": {},
     "output_type": "execute_result"
    }
   ],
   "source": [
    "import pandas as pd\n",
    "import matplotlib.pyplot as plt\n",
    "\n",
    "file = \"FOMC_minutes.csv\"\n",
    "df = pd.read_csv(file)\n",
    "df[\"new_date\"] = pd.to_datetime(df.date)\n",
    "\n",
    "df[\"inflation_occur\"] = df.statements.str.findall(r\"inflation\\w*\")\n",
    "df[\"inflation_count\"] = df.inflation_occur.apply(len)\n",
    "df[\"financial_occur\"] = df.statements.str.findall(r\"financ\\w*\")\n",
    "df[\"financial_count\"] = df.financial_occur.apply(len)\n",
    "df.head(10)"
   ]
  },
  {
   "cell_type": "code",
   "execution_count": 109,
   "metadata": {},
   "outputs": [
    {
     "data": {
      "image/png": "[encoded data removed]",
      "text/plain": [
       "<Figure size 432x288 with 2 Axes>"
      ]
     },
     "metadata": {
      "needs_background": "light"
     },
     "output_type": "display_data"
    }
   ],
   "source": [
    "fig, ax1 = plt.subplots()\n",
    "\n",
    "ax1.plot(df.new_date, df.inflation_count)\n",
    "ax1.set_ylabel(\"inflation count\", color='b')\n",
    "\n",
    "ax2 = ax1.twinx()\n",
    "ax2.plot(df.new_date, df.financial_count,'r:')\n",
    "ax2.set_ylabel(\"finacial count\",color='r')\n",
    "\n",
    "plt.show()"
   ]
  },
  {
   "cell_type": "code",
   "execution_count": null,
   "metadata": {},
   "outputs": [],
   "source": []
  }
 ],
 "metadata": {
  "kernelspec": {
   "display_name": "Python 3",
   "language": "python",
   "name": "python3"
  },
  "language_info": {
   "codemirror_mode": {
    "name": "ipython",
    "version": 3
   },
   "file_extension": ".py",
   "mimetype": "text/x-python",
   "name": "python",
   "nbconvert_exporter": "python",
   "pygments_lexer": "ipython3",
   "version": "3.7.2"
  }
 },
 "nbformat": 4,
 "nbformat_minor": 2
}
