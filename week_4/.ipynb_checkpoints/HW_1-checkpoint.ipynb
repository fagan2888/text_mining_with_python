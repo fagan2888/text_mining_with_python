{
 "cells": [
  {
   "cell_type": "code",
   "execution_count": 94,
   "metadata": {},
   "outputs": [],
   "source": [
    "import pandas as pd"
   ]
  },
  {
   "cell_type": "code",
   "execution_count": 95,
   "metadata": {},
   "outputs": [],
   "source": [
    "df = pd.read_csv(\"FOMC_minutes.csv\") "
   ]
  },
  {
   "cell_type": "code",
   "execution_count": 96,
   "metadata": {},
   "outputs": [],
   "source": [
    "df[\"QuarterEnd\"] = df.date.apply(lambda date: pd.to_datetime(date) + pd.offsets.QuarterEnd())\n",
    "df[\"WordCount\"] = df.statements.apply(lambda x: len(x.split()))"
   ]
  },
  {
   "cell_type": "code",
   "execution_count": 97,
   "metadata": {
    "scrolled": true
   },
   "outputs": [
    {
     "data": {
      "text/html": [
       "<div>\n",
       "<style scoped>\n",
       "    .dataframe tbody tr th:only-of-type {\n",
       "        vertical-align: middle;\n",
       "    }\n",
       "\n",
       "    .dataframe tbody tr th {\n",
       "        vertical-align: top;\n",
       "    }\n",
       "\n",
       "    .dataframe thead th {\n",
       "        text-align: right;\n",
       "    }\n",
       "</style>\n",
       "<table border=\"1\" class=\"dataframe\">\n",
       "  <thead>\n",
       "    <tr style=\"text-align: right;\">\n",
       "      <th></th>\n",
       "      <th>date</th>\n",
       "      <th>statements</th>\n",
       "      <th>QuarterEnd</th>\n",
       "      <th>WordCount</th>\n",
       "    </tr>\n",
       "  </thead>\n",
       "  <tbody>\n",
       "    <tr>\n",
       "      <th>0</th>\n",
       "      <td>2/4/1994</td>\n",
       "      <td>Chairman Alan Greenspan announced today that t...</td>\n",
       "      <td>1994-03-31</td>\n",
       "      <td>99</td>\n",
       "    </tr>\n",
       "    <tr>\n",
       "      <th>1</th>\n",
       "      <td>3/22/1994</td>\n",
       "      <td>Chairman Alan Greenspan announced today that t...</td>\n",
       "      <td>1994-03-31</td>\n",
       "      <td>39</td>\n",
       "    </tr>\n",
       "    <tr>\n",
       "      <th>2</th>\n",
       "      <td>4/18/1994</td>\n",
       "      <td>Chairman Alan Greenspan announced today that t...</td>\n",
       "      <td>1994-06-30</td>\n",
       "      <td>36</td>\n",
       "    </tr>\n",
       "    <tr>\n",
       "      <th>3</th>\n",
       "      <td>5/17/1994</td>\n",
       "      <td>The Federal Reserve today announced two action...</td>\n",
       "      <td>1994-06-30</td>\n",
       "      <td>164</td>\n",
       "    </tr>\n",
       "    <tr>\n",
       "      <th>4</th>\n",
       "      <td>8/16/1994</td>\n",
       "      <td>The Federal Reserve announced today the follow...</td>\n",
       "      <td>1994-09-30</td>\n",
       "      <td>137</td>\n",
       "    </tr>\n",
       "    <tr>\n",
       "      <th>5</th>\n",
       "      <td>11/15/1994</td>\n",
       "      <td>The Federal Reserve Board today approved an in...</td>\n",
       "      <td>1994-12-31</td>\n",
       "      <td>142</td>\n",
       "    </tr>\n",
       "    <tr>\n",
       "      <th>6</th>\n",
       "      <td>2/1/1995</td>\n",
       "      <td>The Federal Reserve Board today approved an in...</td>\n",
       "      <td>1995-03-31</td>\n",
       "      <td>145</td>\n",
       "    </tr>\n",
       "    <tr>\n",
       "      <th>7</th>\n",
       "      <td>7/6/1995</td>\n",
       "      <td>Chairman Alan Greenspan announced today that t...</td>\n",
       "      <td>1995-09-30</td>\n",
       "      <td>71</td>\n",
       "    </tr>\n",
       "    <tr>\n",
       "      <th>8</th>\n",
       "      <td>12/19/1995</td>\n",
       "      <td>Chairman Alan Greenspan announced today that t...</td>\n",
       "      <td>1995-12-31</td>\n",
       "      <td>86</td>\n",
       "    </tr>\n",
       "    <tr>\n",
       "      <th>9</th>\n",
       "      <td>1/31/1996</td>\n",
       "      <td>The Federal Reserve today announced the follow...</td>\n",
       "      <td>1996-03-31</td>\n",
       "      <td>140</td>\n",
       "    </tr>\n",
       "  </tbody>\n",
       "</table>\n",
       "</div>"
      ],
      "text/plain": [
       "         date                                         statements QuarterEnd  \\\n",
       "0    2/4/1994  Chairman Alan Greenspan announced today that t... 1994-03-31   \n",
       "1   3/22/1994  Chairman Alan Greenspan announced today that t... 1994-03-31   \n",
       "2   4/18/1994  Chairman Alan Greenspan announced today that t... 1994-06-30   \n",
       "3   5/17/1994  The Federal Reserve today announced two action... 1994-06-30   \n",
       "4   8/16/1994  The Federal Reserve announced today the follow... 1994-09-30   \n",
       "5  11/15/1994  The Federal Reserve Board today approved an in... 1994-12-31   \n",
       "6    2/1/1995  The Federal Reserve Board today approved an in... 1995-03-31   \n",
       "7    7/6/1995  Chairman Alan Greenspan announced today that t... 1995-09-30   \n",
       "8  12/19/1995  Chairman Alan Greenspan announced today that t... 1995-12-31   \n",
       "9   1/31/1996  The Federal Reserve today announced the follow... 1996-03-31   \n",
       "\n",
       "   WordCount  \n",
       "0         99  \n",
       "1         39  \n",
       "2         36  \n",
       "3        164  \n",
       "4        137  \n",
       "5        142  \n",
       "6        145  \n",
       "7         71  \n",
       "8         86  \n",
       "9        140  "
      ]
     },
     "execution_count": 97,
     "metadata": {},
     "output_type": "execute_result"
    }
   ],
   "source": [
    "df.head(10)"
   ]
  },
  {
   "cell_type": "code",
   "execution_count": 98,
   "metadata": {},
   "outputs": [],
   "source": [
    "df2 = df.set_index(\"QuarterEnd\").groupby(pd.Grouper(freq='Q')).sum()\n",
    "df2.columns = ['Sum']"
   ]
  },
  {
   "cell_type": "code",
   "execution_count": 99,
   "metadata": {},
   "outputs": [
    {
     "data": {
      "text/html": [
       "<div>\n",
       "<style scoped>\n",
       "    .dataframe tbody tr th:only-of-type {\n",
       "        vertical-align: middle;\n",
       "    }\n",
       "\n",
       "    .dataframe tbody tr th {\n",
       "        vertical-align: top;\n",
       "    }\n",
       "\n",
       "    .dataframe thead th {\n",
       "        text-align: right;\n",
       "    }\n",
       "</style>\n",
       "<table border=\"1\" class=\"dataframe\">\n",
       "  <thead>\n",
       "    <tr style=\"text-align: right;\">\n",
       "      <th></th>\n",
       "      <th>Sum</th>\n",
       "    </tr>\n",
       "    <tr>\n",
       "      <th>QuarterEnd</th>\n",
       "      <th></th>\n",
       "    </tr>\n",
       "  </thead>\n",
       "  <tbody>\n",
       "    <tr>\n",
       "      <th>1994-03-31</th>\n",
       "      <td>138</td>\n",
       "    </tr>\n",
       "    <tr>\n",
       "      <th>1994-06-30</th>\n",
       "      <td>200</td>\n",
       "    </tr>\n",
       "    <tr>\n",
       "      <th>1994-09-30</th>\n",
       "      <td>137</td>\n",
       "    </tr>\n",
       "    <tr>\n",
       "      <th>1994-12-31</th>\n",
       "      <td>142</td>\n",
       "    </tr>\n",
       "    <tr>\n",
       "      <th>1995-03-31</th>\n",
       "      <td>145</td>\n",
       "    </tr>\n",
       "    <tr>\n",
       "      <th>1995-06-30</th>\n",
       "      <td>0</td>\n",
       "    </tr>\n",
       "    <tr>\n",
       "      <th>1995-09-30</th>\n",
       "      <td>71</td>\n",
       "    </tr>\n",
       "    <tr>\n",
       "      <th>1995-12-31</th>\n",
       "      <td>86</td>\n",
       "    </tr>\n",
       "    <tr>\n",
       "      <th>1996-03-31</th>\n",
       "      <td>140</td>\n",
       "    </tr>\n",
       "    <tr>\n",
       "      <th>1996-06-30</th>\n",
       "      <td>0</td>\n",
       "    </tr>\n",
       "  </tbody>\n",
       "</table>\n",
       "</div>"
      ],
      "text/plain": [
       "            Sum\n",
       "QuarterEnd     \n",
       "1994-03-31  138\n",
       "1994-06-30  200\n",
       "1994-09-30  137\n",
       "1994-12-31  142\n",
       "1995-03-31  145\n",
       "1995-06-30    0\n",
       "1995-09-30   71\n",
       "1995-12-31   86\n",
       "1996-03-31  140\n",
       "1996-06-30    0"
      ]
     },
     "execution_count": 99,
     "metadata": {},
     "output_type": "execute_result"
    }
   ],
   "source": [
    "df2.head(10)"
   ]
  },
  {
   "cell_type": "code",
   "execution_count": 100,
   "metadata": {},
   "outputs": [
    {
     "data": {
      "image/png": "[encoded data removed]",
      "text/plain": [
       "<Figure size 432x288 with 1 Axes>"
      ]
     },
     "metadata": {
      "needs_background": "light"
     },
     "output_type": "display_data"
    }
   ],
   "source": [
    "import matplotlib.pyplot as plt\n",
    "fig, ax = plt.subplots()\n",
    "\n",
    "ax.plot(df2.index, df2.Sum)\n",
    "ax.set(xlabel = \"Date\", ylabel = \"Total Word (Per Quarter)\")\n",
    "ax.grid()\n",
    "\n",
    "plt.show()"
   ]
  },
  {
   "cell_type": "code",
   "execution_count": 56,
   "metadata": {},
   "outputs": [],
   "source": [
    "import numpy as np\n",
    "speech = np.random.multinomial(n=10, pvals=[2/10,1/10,4/10,1/10,2/10], size=1)"
   ]
  },
  {
   "cell_type": "code",
   "execution_count": 57,
   "metadata": {},
   "outputs": [
    {
     "name": "stdout",
     "output_type": "stream",
     "text": [
      "Inflation\t\t:  100\n",
      "Employment\t\t:  0\n",
      "Interest Rate\t\t:  600\n",
      "International Trade\t:  0\n",
      "Banking Sector\t\t:  300\n"
     ]
    }
   ],
   "source": [
    "print(\"Inflation\\t\\t: \", int((speech[0,0]/10)*1000))\n",
    "print(\"Employment\\t\\t: \", int((speech[0,1]/10)*1000))\n",
    "print(\"Interest Rate\\t\\t: \", int((speech[0,2]/10)*1000))\n",
    "print(\"International Trade\\t: \", int((speech[0,3]/10)*1000))\n",
    "print(\"Banking Sector\\t\\t: \", int((speech[0,4]/10)*1000))"
   ]
  },
  {
   "cell_type": "code",
   "execution_count": 58,
   "metadata": {},
   "outputs": [],
   "source": [
    "speech2 = np.random.multinomial(n=10, pvals=[2/10,1/10,4/10,1/10,2/10], size=100)"
   ]
  },
  {
   "cell_type": "code",
   "execution_count": 59,
   "metadata": {},
   "outputs": [
    {
     "data": {
      "text/plain": [
       "(100, 5)"
      ]
     },
     "execution_count": 59,
     "metadata": {},
     "output_type": "execute_result"
    }
   ],
   "source": [
    "speech2.shape"
   ]
  },
  {
   "cell_type": "code",
   "execution_count": 62,
   "metadata": {},
   "outputs": [
    {
     "name": "stdout",
     "output_type": "stream",
     "text": [
      "Interest Rate \t:  300\n",
      "Banking Sector \t:  300\n",
      "[2 2 3 0 3]\n"
     ]
    }
   ],
   "source": [
    "def most_common_topic(ith):\n",
    "    words = [\"Inflation\",\"Employment\",\"Interest Rate\",\"International Trade\",\"Banking Sector\"]\n",
    "    value = np.max(speech2[ith])\n",
    "    indxs = [indx for indx,num in enumerate(speech2[ith]) if num == value]\n",
    "    for indx in indxs:\n",
    "        print(words[indx],\"\\t: \", int(((speech2[ith][indx])/10)*1000))\n",
    "\n",
    "most_common_topic(4)\n",
    "print(speech2[4])"
   ]
  },
  {
   "cell_type": "code",
   "execution_count": null,
   "metadata": {},
   "outputs": [],
   "source": []
  }
 ],
 "metadata": {
  "kernelspec": {
   "display_name": "Python 3",
   "language": "python",
   "name": "python3"
  },
  "language_info": {
   "codemirror_mode": {
    "name": "ipython",
    "version": 3
   },
   "file_extension": ".py",
   "mimetype": "text/x-python",
   "name": "python",
   "nbconvert_exporter": "python",
   "pygments_lexer": "ipython3",
   "version": "3.7.2"
  }
 },
 "nbformat": 4,
 "nbformat_minor": 2
}
