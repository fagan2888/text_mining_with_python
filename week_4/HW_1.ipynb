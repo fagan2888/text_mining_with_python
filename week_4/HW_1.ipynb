{
 "cells": [
  {
   "cell_type": "code",
   "execution_count": 1,
   "metadata": {},
   "outputs": [],
   "source": [
    "import pandas as pd"
   ]
  },
  {
   "cell_type": "code",
   "execution_count": 2,
   "metadata": {},
   "outputs": [],
   "source": [
    "df = pd.read_csv(\"FOMC_minutes.csv\") "
   ]
  },
  {
   "cell_type": "code",
   "execution_count": 3,
   "metadata": {},
   "outputs": [],
   "source": [
    "df[\"QuarterEnd\"] = df.date.apply(lambda date: pd.to_datetime(date) + pd.offsets.QuarterEnd())\n",
    "df[\"WordCount\"] = df.statements.apply(lambda x: len(x.split()))"
   ]
  },
  {
   "cell_type": "code",
   "execution_count": 4,
   "metadata": {
    "scrolled": true
   },
   "outputs": [
    {
     "data": {
      "text/html": [
       "<div>\n",
       "<style scoped>\n",
       "    .dataframe tbody tr th:only-of-type {\n",
       "        vertical-align: middle;\n",
       "    }\n",
       "\n",
       "    .dataframe tbody tr th {\n",
       "        vertical-align: top;\n",
       "    }\n",
       "\n",
       "    .dataframe thead th {\n",
       "        text-align: right;\n",
       "    }\n",
       "</style>\n",
       "<table border=\"1\" class=\"dataframe\">\n",
       "  <thead>\n",
       "    <tr style=\"text-align: right;\">\n",
       "      <th></th>\n",
       "      <th>date</th>\n",
       "      <th>statements</th>\n",
       "      <th>QuarterEnd</th>\n",
       "      <th>WordCount</th>\n",
       "    </tr>\n",
       "  </thead>\n",
       "  <tbody>\n",
       "    <tr>\n",
       "      <th>0</th>\n",
       "      <td>2/4/1994</td>\n",
       "      <td>Chairman Alan Greenspan announced today that t...</td>\n",
       "      <td>1994-03-31</td>\n",
       "      <td>99</td>\n",
       "    </tr>\n",
       "    <tr>\n",
       "      <th>1</th>\n",
       "      <td>3/22/1994</td>\n",
       "      <td>Chairman Alan Greenspan announced today that t...</td>\n",
       "      <td>1994-03-31</td>\n",
       "      <td>39</td>\n",
       "    </tr>\n",
       "    <tr>\n",
       "      <th>2</th>\n",
       "      <td>4/18/1994</td>\n",
       "      <td>Chairman Alan Greenspan announced today that t...</td>\n",
       "      <td>1994-06-30</td>\n",
       "      <td>36</td>\n",
       "    </tr>\n",
       "    <tr>\n",
       "      <th>3</th>\n",
       "      <td>5/17/1994</td>\n",
       "      <td>The Federal Reserve today announced two action...</td>\n",
       "      <td>1994-06-30</td>\n",
       "      <td>164</td>\n",
       "    </tr>\n",
       "    <tr>\n",
       "      <th>4</th>\n",
       "      <td>8/16/1994</td>\n",
       "      <td>The Federal Reserve announced today the follow...</td>\n",
       "      <td>1994-09-30</td>\n",
       "      <td>137</td>\n",
       "    </tr>\n",
       "    <tr>\n",
       "      <th>5</th>\n",
       "      <td>11/15/1994</td>\n",
       "      <td>The Federal Reserve Board today approved an in...</td>\n",
       "      <td>1994-12-31</td>\n",
       "      <td>142</td>\n",
       "    </tr>\n",
       "    <tr>\n",
       "      <th>6</th>\n",
       "      <td>2/1/1995</td>\n",
       "      <td>The Federal Reserve Board today approved an in...</td>\n",
       "      <td>1995-03-31</td>\n",
       "      <td>145</td>\n",
       "    </tr>\n",
       "    <tr>\n",
       "      <th>7</th>\n",
       "      <td>7/6/1995</td>\n",
       "      <td>Chairman Alan Greenspan announced today that t...</td>\n",
       "      <td>1995-09-30</td>\n",
       "      <td>71</td>\n",
       "    </tr>\n",
       "    <tr>\n",
       "      <th>8</th>\n",
       "      <td>12/19/1995</td>\n",
       "      <td>Chairman Alan Greenspan announced today that t...</td>\n",
       "      <td>1995-12-31</td>\n",
       "      <td>86</td>\n",
       "    </tr>\n",
       "    <tr>\n",
       "      <th>9</th>\n",
       "      <td>1/31/1996</td>\n",
       "      <td>The Federal Reserve today announced the follow...</td>\n",
       "      <td>1996-03-31</td>\n",
       "      <td>140</td>\n",
       "    </tr>\n",
       "  </tbody>\n",
       "</table>\n",
       "</div>"
      ],
      "text/plain": [
       "         date                                         statements QuarterEnd  \\\n",
       "0    2/4/1994  Chairman Alan Greenspan announced today that t... 1994-03-31   \n",
       "1   3/22/1994  Chairman Alan Greenspan announced today that t... 1994-03-31   \n",
       "2   4/18/1994  Chairman Alan Greenspan announced today that t... 1994-06-30   \n",
       "3   5/17/1994  The Federal Reserve today announced two action... 1994-06-30   \n",
       "4   8/16/1994  The Federal Reserve announced today the follow... 1994-09-30   \n",
       "5  11/15/1994  The Federal Reserve Board today approved an in... 1994-12-31   \n",
       "6    2/1/1995  The Federal Reserve Board today approved an in... 1995-03-31   \n",
       "7    7/6/1995  Chairman Alan Greenspan announced today that t... 1995-09-30   \n",
       "8  12/19/1995  Chairman Alan Greenspan announced today that t... 1995-12-31   \n",
       "9   1/31/1996  The Federal Reserve today announced the follow... 1996-03-31   \n",
       "\n",
       "   WordCount  \n",
       "0         99  \n",
       "1         39  \n",
       "2         36  \n",
       "3        164  \n",
       "4        137  \n",
       "5        142  \n",
       "6        145  \n",
       "7         71  \n",
       "8         86  \n",
       "9        140  "
      ]
     },
     "execution_count": 4,
     "metadata": {},
     "output_type": "execute_result"
    }
   ],
   "source": [
    "df.head(10)"
   ]
  },
  {
   "cell_type": "code",
   "execution_count": 5,
   "metadata": {},
   "outputs": [],
   "source": [
    "df2 = df.set_index(\"QuarterEnd\").groupby(pd.Grouper(freq='Q')).sum()\n",
    "df2.columns = ['Sum']"
   ]
  },
  {
   "cell_type": "code",
   "execution_count": 6,
   "metadata": {
    "scrolled": true
   },
   "outputs": [
    {
     "data": {
      "text/html": [
       "<div>\n",
       "<style scoped>\n",
       "    .dataframe tbody tr th:only-of-type {\n",
       "        vertical-align: middle;\n",
       "    }\n",
       "\n",
       "    .dataframe tbody tr th {\n",
       "        vertical-align: top;\n",
       "    }\n",
       "\n",
       "    .dataframe thead th {\n",
       "        text-align: right;\n",
       "    }\n",
       "</style>\n",
       "<table border=\"1\" class=\"dataframe\">\n",
       "  <thead>\n",
       "    <tr style=\"text-align: right;\">\n",
       "      <th></th>\n",
       "      <th>Sum</th>\n",
       "    </tr>\n",
       "    <tr>\n",
       "      <th>QuarterEnd</th>\n",
       "      <th></th>\n",
       "    </tr>\n",
       "  </thead>\n",
       "  <tbody>\n",
       "    <tr>\n",
       "      <th>1994-03-31</th>\n",
       "      <td>138</td>\n",
       "    </tr>\n",
       "    <tr>\n",
       "      <th>1994-06-30</th>\n",
       "      <td>200</td>\n",
       "    </tr>\n",
       "    <tr>\n",
       "      <th>1994-09-30</th>\n",
       "      <td>137</td>\n",
       "    </tr>\n",
       "    <tr>\n",
       "      <th>1994-12-31</th>\n",
       "      <td>142</td>\n",
       "    </tr>\n",
       "    <tr>\n",
       "      <th>1995-03-31</th>\n",
       "      <td>145</td>\n",
       "    </tr>\n",
       "    <tr>\n",
       "      <th>1995-06-30</th>\n",
       "      <td>0</td>\n",
       "    </tr>\n",
       "    <tr>\n",
       "      <th>1995-09-30</th>\n",
       "      <td>71</td>\n",
       "    </tr>\n",
       "    <tr>\n",
       "      <th>1995-12-31</th>\n",
       "      <td>86</td>\n",
       "    </tr>\n",
       "    <tr>\n",
       "      <th>1996-03-31</th>\n",
       "      <td>140</td>\n",
       "    </tr>\n",
       "    <tr>\n",
       "      <th>1996-06-30</th>\n",
       "      <td>0</td>\n",
       "    </tr>\n",
       "  </tbody>\n",
       "</table>\n",
       "</div>"
      ],
      "text/plain": [
       "            Sum\n",
       "QuarterEnd     \n",
       "1994-03-31  138\n",
       "1994-06-30  200\n",
       "1994-09-30  137\n",
       "1994-12-31  142\n",
       "1995-03-31  145\n",
       "1995-06-30    0\n",
       "1995-09-30   71\n",
       "1995-12-31   86\n",
       "1996-03-31  140\n",
       "1996-06-30    0"
      ]
     },
     "execution_count": 6,
     "metadata": {},
     "output_type": "execute_result"
    }
   ],
   "source": [
    "df2.head(10)"
   ]
  },
  {
   "cell_type": "code",
   "execution_count": 18,
   "metadata": {},
   "outputs": [
    {
     "data": {
      "image/png": "[encoded data removed]",
      "text/plain": [
       "<Figure size 432x288 with 1 Axes>"
      ]
     },
     "metadata": {
      "needs_background": "light"
     },
     "output_type": "display_data"
    }
   ],
   "source": [
    "import matplotlib.pyplot as plt\n",
    "fig, ax = plt.subplots()\n",
    "\n",
    "ax.plot(df2.index, df2.Sum)\n",
    "ax.set(xlabel = \"Date\", ylabel = \"Total Word (Per Quarter)\")\n",
    "ax.grid()\n",
    "\n",
    "plt.show()"
   ]
  },
  {
   "cell_type": "code",
   "execution_count": 19,
   "metadata": {
    "scrolled": true
   },
   "outputs": [
    {
     "data": {
      "text/plain": [
       "array([[221,  92, 402,  84, 201]])"
      ]
     },
     "execution_count": 19,
     "metadata": {},
     "output_type": "execute_result"
    }
   ],
   "source": [
    "import numpy as np\n",
    "speech = np.random.multinomial(n=1000, pvals=[2/10,1/10,4/10,1/10,2/10], size=1)\n",
    "\"\"\" Multinomial Distribution:\n",
    "There were 194 counts of \"inflation\", in order to find this random number, I used\n",
    "a multinomial distribution. This was the best choice because there were 5 seperate\n",
    "possibilities of a specific-word being in a 1000 word document. Through this\n",
    "distribution, I was able to simulate a random distribution with 5 different percent/\n",
    "probability values. I was also able to set the n-number of experiments to 1000 since\n",
    "we needed to simulate a 1000 word speech. Other distributions like the bernoulli or\n",
    "binomial distribution would'nt of been well suited for this case b/c they would\n",
    "only simulate a two possible outcomes over different sized experiments. \n",
    "\"\"\"\n",
    "speech"
   ]
  },
  {
   "cell_type": "code",
   "execution_count": 20,
   "metadata": {},
   "outputs": [
    {
     "name": "stdout",
     "output_type": "stream",
     "text": [
      "Inflation\t\t:  221\n",
      "Employment\t\t:  92\n",
      "Interest Rate\t\t:  402\n",
      "International Trade\t:  84\n",
      "Banking Sector\t\t:  201\n"
     ]
    }
   ],
   "source": [
    "print(\"Inflation\\t\\t: \", int(speech[0,0]))\n",
    "print(\"Employment\\t\\t: \", int(speech[0,1]))\n",
    "print(\"Interest Rate\\t\\t: \", int(speech[0,2]))\n",
    "print(\"International Trade\\t: \", int(speech[0,3]))\n",
    "print(\"Banking Sector\\t\\t: \", int(speech[0,4]))\n",
    "# The \"interest rate\" topic dominates the randomly generated speech"
   ]
  },
  {
   "cell_type": "code",
   "execution_count": 40,
   "metadata": {},
   "outputs": [],
   "source": [
    "speech2 = np.random.multinomial(n=1000, pvals=[2/10,1/10,4/10,1/10,2/10], size=100)"
   ]
  },
  {
   "cell_type": "code",
   "execution_count": 53,
   "metadata": {
    "scrolled": false
   },
   "outputs": [
    {
     "data": {
      "text/plain": [
       "(100, 5)"
      ]
     },
     "execution_count": 53,
     "metadata": {},
     "output_type": "execute_result"
    }
   ],
   "source": [
    "speech2.shape"
   ]
  },
  {
   "cell_type": "code",
   "execution_count": 70,
   "metadata": {},
   "outputs": [
    {
     "name": "stdout",
     "output_type": "stream",
     "text": [
      "CPU times: user 4 µs, sys: 1e+03 ns, total: 5 µs\n",
      "Wall time: 6.91 µs\n",
      "Interest Rate \t:  377\n",
      "[211 101 377  96 215]\n"
     ]
    }
   ],
   "source": [
    "%time\n",
    "def most_common_topic_full(ith):\n",
    "    words = [\"Inflation\",\"Employment\",\"Interest Rate\",\"International Trade\",\"Banking Sector\"]\n",
    "    value = np.max(speech2[ith])\n",
    "    # In case there are two max count-words used the equal amount of times\n",
    "    indxs = [indx for indx,num in enumerate(speech2[ith]) if num == value]\n",
    "    for indx in indxs:\n",
    "        print(words[indx],\"\\t: \", int(speech2[ith][indx]))\n",
    "\n",
    "most_common_topic_full(4)\n",
    "print(speech2[4])"
   ]
  },
  {
   "cell_type": "code",
   "execution_count": 93,
   "metadata": {},
   "outputs": [
    {
     "name": "stdout",
     "output_type": "stream",
     "text": [
      "CPU times: user 3 µs, sys: 1e+03 ns, total: 4 µs\n",
      "Wall time: 6.91 µs\n",
      "['Interest Rate', 377]\n"
     ]
    }
   ],
   "source": [
    "speech3 = list()\n",
    "\n",
    "%time\n",
    "def most_common_topic_max(ith):\n",
    "    words = [\"Inflation\",\"Employment\",\"Interest Rate\",\"International Trade\",\"Banking Sector\"]\n",
    "    for speech in speech2:\n",
    "        x = np.argmax(speech)\n",
    "        speech3.append([words[x],speech[x]])\n",
    "    print(speech3[ith])\n",
    "    \n",
    "most_common_topic_max(4)"
   ]
  },
  {
   "cell_type": "code",
   "execution_count": 13,
   "metadata": {},
   "outputs": [
    {
     "name": "stdout",
     "output_type": "stream",
     "text": [
      "<class 'pandas.core.frame.DataFrame'>\n",
      "RangeIndex: 100 entries, 0 to 99\n",
      "Data columns (total 5 columns):\n",
      "Inflation              100 non-null int64\n",
      "Employment             100 non-null int64\n",
      "Interest Rate          100 non-null int64\n",
      "International Trade    100 non-null int64\n",
      "Banking Sector         100 non-null int64\n",
      "dtypes: int64(5)\n",
      "memory usage: 4.0 KB\n",
      "None\n"
     ]
    },
    {
     "data": {
      "text/html": [
       "<div>\n",
       "<style scoped>\n",
       "    .dataframe tbody tr th:only-of-type {\n",
       "        vertical-align: middle;\n",
       "    }\n",
       "\n",
       "    .dataframe tbody tr th {\n",
       "        vertical-align: top;\n",
       "    }\n",
       "\n",
       "    .dataframe thead th {\n",
       "        text-align: right;\n",
       "    }\n",
       "</style>\n",
       "<table border=\"1\" class=\"dataframe\">\n",
       "  <thead>\n",
       "    <tr style=\"text-align: right;\">\n",
       "      <th></th>\n",
       "      <th>Inflation</th>\n",
       "      <th>Employment</th>\n",
       "      <th>Interest Rate</th>\n",
       "      <th>International Trade</th>\n",
       "      <th>Banking Sector</th>\n",
       "    </tr>\n",
       "  </thead>\n",
       "  <tbody>\n",
       "    <tr>\n",
       "      <th>0</th>\n",
       "      <td>218</td>\n",
       "      <td>107</td>\n",
       "      <td>375</td>\n",
       "      <td>106</td>\n",
       "      <td>194</td>\n",
       "    </tr>\n",
       "    <tr>\n",
       "      <th>1</th>\n",
       "      <td>212</td>\n",
       "      <td>110</td>\n",
       "      <td>391</td>\n",
       "      <td>90</td>\n",
       "      <td>197</td>\n",
       "    </tr>\n",
       "    <tr>\n",
       "      <th>2</th>\n",
       "      <td>216</td>\n",
       "      <td>75</td>\n",
       "      <td>382</td>\n",
       "      <td>122</td>\n",
       "      <td>205</td>\n",
       "    </tr>\n",
       "    <tr>\n",
       "      <th>3</th>\n",
       "      <td>215</td>\n",
       "      <td>104</td>\n",
       "      <td>371</td>\n",
       "      <td>94</td>\n",
       "      <td>216</td>\n",
       "    </tr>\n",
       "    <tr>\n",
       "      <th>4</th>\n",
       "      <td>184</td>\n",
       "      <td>107</td>\n",
       "      <td>407</td>\n",
       "      <td>99</td>\n",
       "      <td>203</td>\n",
       "    </tr>\n",
       "  </tbody>\n",
       "</table>\n",
       "</div>"
      ],
      "text/plain": [
       "   Inflation  Employment  Interest Rate  International Trade  Banking Sector\n",
       "0        218         107            375                  106             194\n",
       "1        212         110            391                   90             197\n",
       "2        216          75            382                  122             205\n",
       "3        215         104            371                   94             216\n",
       "4        184         107            407                   99             203"
      ]
     },
     "execution_count": 13,
     "metadata": {},
     "output_type": "execute_result"
    }
   ],
   "source": [
    "df = pd.DataFrame({'Inflation':speech2[:,0],'Employment':speech2[:,1],\n",
    "                   'Interest Rate':speech2[:,2],'International Trade':speech2[:,3],\n",
    "                   'Banking Sector':speech2[:,4]})\n",
    "print(df.info())\n",
    "df.head()"
   ]
  },
  {
   "cell_type": "code",
   "execution_count": 96,
   "metadata": {},
   "outputs": [
    {
     "data": {
      "image/png": "[encoded data removed]",
      "text/plain": [
       "<Figure size 432x288 with 6 Axes>"
      ]
     },
     "metadata": {
      "needs_background": "light"
     },
     "output_type": "display_data"
    }
   ],
   "source": [
    "%matplotlib inline\n",
    "import matplotlib.pyplot as plt\n",
    "df.hist(bins=25)\n",
    "\"\"\" Interpretation:\n",
    "Through analyizing each graph, I noticed that each of the words \"Employment\", \n",
    "\"International Trade\" and \"Banking Sector\" followed a somewhat normal distribution. \n",
    "Meanwhile, the word \"Inflation\" had a skewed distribution and also the second highest \n",
    "level of standard deviation, suggesting that the average word count deviated from the mean. \n",
    "However, the word \"Interest Rate\" had bimodal distribution and also the highest standard\n",
    "deviation. The results were very interesting from this random multinomial distribution.\n",
    "\n",
    "\"\"\"\n",
    "plt.show()"
   ]
  },
  {
   "cell_type": "code",
   "execution_count": 17,
   "metadata": {},
   "outputs": [
    {
     "data": {
      "text/html": [
       "<div>\n",
       "<style scoped>\n",
       "    .dataframe tbody tr th:only-of-type {\n",
       "        vertical-align: middle;\n",
       "    }\n",
       "\n",
       "    .dataframe tbody tr th {\n",
       "        vertical-align: top;\n",
       "    }\n",
       "\n",
       "    .dataframe thead th {\n",
       "        text-align: right;\n",
       "    }\n",
       "</style>\n",
       "<table border=\"1\" class=\"dataframe\">\n",
       "  <thead>\n",
       "    <tr style=\"text-align: right;\">\n",
       "      <th></th>\n",
       "      <th>Inflation</th>\n",
       "      <th>Employment</th>\n",
       "      <th>Interest Rate</th>\n",
       "      <th>International Trade</th>\n",
       "      <th>Banking Sector</th>\n",
       "    </tr>\n",
       "  </thead>\n",
       "  <tbody>\n",
       "    <tr>\n",
       "      <th>count</th>\n",
       "      <td>100.000000</td>\n",
       "      <td>100.000000</td>\n",
       "      <td>100.000000</td>\n",
       "      <td>100.000000</td>\n",
       "      <td>100.000000</td>\n",
       "    </tr>\n",
       "    <tr>\n",
       "      <th>mean</th>\n",
       "      <td>201.150000</td>\n",
       "      <td>99.810000</td>\n",
       "      <td>398.900000</td>\n",
       "      <td>101.730000</td>\n",
       "      <td>198.410000</td>\n",
       "    </tr>\n",
       "    <tr>\n",
       "      <th>std</th>\n",
       "      <td>14.670368</td>\n",
       "      <td>10.553084</td>\n",
       "      <td>16.622062</td>\n",
       "      <td>9.766832</td>\n",
       "      <td>13.001239</td>\n",
       "    </tr>\n",
       "    <tr>\n",
       "      <th>min</th>\n",
       "      <td>168.000000</td>\n",
       "      <td>75.000000</td>\n",
       "      <td>366.000000</td>\n",
       "      <td>81.000000</td>\n",
       "      <td>164.000000</td>\n",
       "    </tr>\n",
       "    <tr>\n",
       "      <th>25%</th>\n",
       "      <td>191.000000</td>\n",
       "      <td>93.750000</td>\n",
       "      <td>387.000000</td>\n",
       "      <td>94.000000</td>\n",
       "      <td>191.750000</td>\n",
       "    </tr>\n",
       "    <tr>\n",
       "      <th>50%</th>\n",
       "      <td>201.500000</td>\n",
       "      <td>100.000000</td>\n",
       "      <td>401.000000</td>\n",
       "      <td>101.000000</td>\n",
       "      <td>198.000000</td>\n",
       "    </tr>\n",
       "    <tr>\n",
       "      <th>75%</th>\n",
       "      <td>211.250000</td>\n",
       "      <td>107.000000</td>\n",
       "      <td>410.000000</td>\n",
       "      <td>108.000000</td>\n",
       "      <td>206.000000</td>\n",
       "    </tr>\n",
       "    <tr>\n",
       "      <th>max</th>\n",
       "      <td>247.000000</td>\n",
       "      <td>126.000000</td>\n",
       "      <td>436.000000</td>\n",
       "      <td>125.000000</td>\n",
       "      <td>233.000000</td>\n",
       "    </tr>\n",
       "  </tbody>\n",
       "</table>\n",
       "</div>"
      ],
      "text/plain": [
       "        Inflation  Employment  Interest Rate  International Trade  \\\n",
       "count  100.000000  100.000000     100.000000           100.000000   \n",
       "mean   201.150000   99.810000     398.900000           101.730000   \n",
       "std     14.670368   10.553084      16.622062             9.766832   \n",
       "min    168.000000   75.000000     366.000000            81.000000   \n",
       "25%    191.000000   93.750000     387.000000            94.000000   \n",
       "50%    201.500000  100.000000     401.000000           101.000000   \n",
       "75%    211.250000  107.000000     410.000000           108.000000   \n",
       "max    247.000000  126.000000     436.000000           125.000000   \n",
       "\n",
       "       Banking Sector  \n",
       "count      100.000000  \n",
       "mean       198.410000  \n",
       "std         13.001239  \n",
       "min        164.000000  \n",
       "25%        191.750000  \n",
       "50%        198.000000  \n",
       "75%        206.000000  \n",
       "max        233.000000  "
      ]
     },
     "execution_count": 17,
     "metadata": {},
     "output_type": "execute_result"
    }
   ],
   "source": [
    "df.describe()"
   ]
  }
 ],
 "metadata": {
  "kernelspec": {
   "display_name": "Python 3",
   "language": "python",
   "name": "python3"
  },
  "language_info": {
   "codemirror_mode": {
    "name": "ipython",
    "version": 3
   },
   "file_extension": ".py",
   "mimetype": "text/x-python",
   "name": "python",
   "nbconvert_exporter": "python",
   "pygments_lexer": "ipython3",
   "version": "3.7.2"
  }
 },
 "nbformat": 4,
 "nbformat_minor": 2
}
